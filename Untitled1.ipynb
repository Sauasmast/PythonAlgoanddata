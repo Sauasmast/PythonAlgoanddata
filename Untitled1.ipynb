{
 "cells": [
  {
   "cell_type": "code",
   "execution_count": null,
   "metadata": {},
   "outputs": [],
   "source": [
    "def double():\n",
    "    size_of_array = int(input(\"Enter the amount of the number you want to input\"))\n",
    "    elements_in_list = []\n",
    "    while size_of_array != 0:\n",
    "        print(size_of_array)\n",
    "        number = int(input(\"Enter the first number\"))\n",
    "        elements_in_list.append(number)\n",
    "        size_of_arrray= size_of_array - 1\n",
    "    new_elements = elements_in_list.map(lambda x: x*2 for x in elements_in_list)\n",
    "    print(new_elements)"
   ]
  },
  {
   "cell_type": "code",
   "execution_count": null,
   "metadata": {},
   "outputs": [],
   "source": [
    "double()"
   ]
  },
  {
   "cell_type": "markdown",
   "metadata": {},
   "source": [
    "## "
   ]
  },
  {
   "cell_type": "code",
   "execution_count": null,
   "metadata": {},
   "outputs": [],
   "source": []
  },
  {
   "cell_type": "code",
   "execution_count": null,
   "metadata": {},
   "outputs": [],
   "source": []
  }
 ],
 "metadata": {
  "kernelspec": {
   "display_name": "Python 3",
   "language": "python",
   "name": "python3"
  },
  "language_info": {
   "codemirror_mode": {
    "name": "ipython",
    "version": 3
   },
   "file_extension": ".py",
   "mimetype": "text/x-python",
   "name": "python",
   "nbconvert_exporter": "python",
   "pygments_lexer": "ipython3",
   "version": "3.6.5"
  }
 },
 "nbformat": 4,
 "nbformat_minor": 2
}
