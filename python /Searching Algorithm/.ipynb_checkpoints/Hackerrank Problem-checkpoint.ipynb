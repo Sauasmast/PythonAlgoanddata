{
 "cells": [
  {
   "cell_type": "code",
   "execution_count": 21,
   "metadata": {},
   "outputs": [],
   "source": [
    "# Complete the whatFlavors function below.\n",
    "def whatFlavors(cost, money):\n",
    "    low = 0\n",
    "    high = len(money)-1\n",
    "    print(f\"{high}\")\n",
    "    while low < high:\n",
    "        s = money[low] + money[high]\n",
    "        if ( s == cost):\n",
    "            print(\"Enter here\")\n",
    "            print(f\"{low+1} {high+1}\")\n",
    "        elif s < cost:\n",
    "            low +=1\n",
    "        else:\n",
    "            high -=1"
   ]
  },
  {
   "cell_type": "code",
   "execution_count": 22,
   "metadata": {},
   "outputs": [
    {
     "name": "stdout",
     "output_type": "stream",
     "text": [
      "4\n"
     ]
    }
   ],
   "source": [
    "whatFlavors(4, [1,4,5,3,2])"
   ]
  },
  {
   "cell_type": "code",
   "execution_count": null,
   "metadata": {},
   "outputs": [],
   "source": []
  }
 ],
 "metadata": {
  "kernelspec": {
   "display_name": "Python 3",
   "language": "python",
   "name": "python3"
  },
  "language_info": {
   "codemirror_mode": {
    "name": "ipython",
    "version": 3
   },
   "file_extension": ".py",
   "mimetype": "text/x-python",
   "name": "python",
   "nbconvert_exporter": "python",
   "pygments_lexer": "ipython3",
   "version": "3.6.5"
  }
 },
 "nbformat": 4,
 "nbformat_minor": 2
}
