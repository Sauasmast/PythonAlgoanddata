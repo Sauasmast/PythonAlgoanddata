{
 "cells": [
  {
   "cell_type": "markdown",
   "metadata": {},
   "source": [
    "Triplets Solution (Hackerrank)"
   ]
  },
  {
   "cell_type": "code",
   "execution_count": 26,
   "metadata": {},
   "outputs": [],
   "source": [
    "from collections import defaultdict\n",
    "def countTriplets(arr, r):\n",
    "    \n",
    "    # Create an empty dictionary\n",
    "    dictionary = {}\n",
    "    triplets = 0\n",
    "    \n",
    "    # Create a hash map table\n",
    "    for index, ele in enumerate(arr):\n",
    "        for i in range(index+1, len(arr)):\n",
    "            if arr[i] // ele == 5:\n",
    "                if index not in dictionary:\n",
    "                    dictionary[index] = [i]\n",
    "                else:\n",
    "                    dictionary[index].append(i)\n",
    "    print(dictionary)\n",
    "    \n",
    "    for keys in dictionary:\n",
    "        for arrs in dictionary[keys]:\n",
    "            if arrs in dictionary:\n",
    "                triplets = triplets + len(dictionary[arrs])\n",
    "    \n",
    "    return triplets\n",
    "                \n",
    "        "
   ]
  },
  {
   "cell_type": "code",
   "execution_count": 27,
   "metadata": {},
   "outputs": [
    {
     "name": "stdout",
     "output_type": "stream",
     "text": [
      "{}\n"
     ]
    },
    {
     "data": {
      "text/plain": [
       "0"
      ]
     },
     "execution_count": 27,
     "metadata": {},
     "output_type": "execute_result"
    }
   ],
   "source": [
    "countTriplets([1,2,2,4], 5)"
   ]
  },
  {
   "cell_type": "code",
   "execution_count": 32,
   "metadata": {},
   "outputs": [],
   "source": [
    "def countTriplets(arr, r):\n",
    "    v2 = defaultdict(int)\n",
    "    v3 = defaultdict(int)\n",
    "    count = 0\n",
    "    for k in arr:\n",
    "        count += v3[k]\n",
    "        v3[k*r] += v2[k]\n",
    "        v2[k*r] += 1\n",
    "    return count"
   ]
  },
  {
   "cell_type": "code",
   "execution_count": 33,
   "metadata": {},
   "outputs": [
    {
     "data": {
      "text/plain": [
       "2"
      ]
     },
     "execution_count": 33,
     "metadata": {},
     "output_type": "execute_result"
    }
   ],
   "source": [
    "countTriplets([1,2,2,4], 2)"
   ]
  },
  {
   "cell_type": "code",
   "execution_count": null,
   "metadata": {},
   "outputs": [],
   "source": []
  }
 ],
 "metadata": {
  "kernelspec": {
   "display_name": "Python 3",
   "language": "python",
   "name": "python3"
  },
  "language_info": {
   "codemirror_mode": {
    "name": "ipython",
    "version": 3
   },
   "file_extension": ".py",
   "mimetype": "text/x-python",
   "name": "python",
   "nbconvert_exporter": "python",
   "pygments_lexer": "ipython3",
   "version": "3.6.5"
  }
 },
 "nbformat": 4,
 "nbformat_minor": 2
}
