{
 "cells": [
  {
   "cell_type": "code",
   "execution_count": 21,
   "metadata": {},
   "outputs": [],
   "source": [
    "class Solution(object):\n",
    "    def levelOrder(self, root):\n",
    "        \"\"\"\n",
    "        :type root: TreeNode\n",
    "        :rtype: List[List[int]]\n",
    "        \"\"\"\n",
    "        q1 = []\n",
    "        q2 = []\n",
    "        level = []\n",
    "        eachlevel = []\n",
    "        q1.append(root)\n",
    "        while(q1!=[] or q2!=[]):\n",
    "            if (q1 != []):\n",
    "                for eachelement in q1[::-1]:\n",
    "                    if eachelement.left != None:\n",
    "                        q2.insert(0,eachelement.left)\n",
    "                    if eachelement.right != None:\n",
    "                        q2.insert(0,eachelement.right)\n",
    "                    eachlevel.append(eachelement.value)\n",
    "                    q1.remove(eachelement)\n",
    "                print(\"Eachlevel {}\", eachlevel)\n",
    "                level.append(eachlevel)\n",
    "                eachlevel = []\n",
    "            else: \n",
    "                for eachelement in q2[::-1]:\n",
    "                    if eachelement.left != None:\n",
    "                        q1.insert(0,eachelement.left)\n",
    "                    if eachelement.right != None:\n",
    "                        q1.insert(0,eachelement.right)\n",
    "                    eachlevel.append(eachelement.value)\n",
    "                    q2.remove(eachelement)\n",
    "                print(\"Eachlevel {}\", eachlevel)\n",
    "                level.append(eachlevel)\n",
    "                eachlevel = []\n",
    "        return level"
   ]
  },
  {
   "cell_type": "code",
   "execution_count": 22,
   "metadata": {},
   "outputs": [],
   "source": [
    "class Tree():\n",
    "    def __init__(self,value):\n",
    "        self.value = value\n",
    "        self.left = None\n",
    "        self.right = None\n",
    "        "
   ]
  },
  {
   "cell_type": "code",
   "execution_count": 23,
   "metadata": {},
   "outputs": [],
   "source": [
    "a = Tree(3)\n",
    "b = Tree(9)\n",
    "c = Tree(20)\n",
    "d = Tree(15)\n",
    "e = Tree(7)"
   ]
  },
  {
   "cell_type": "code",
   "execution_count": 24,
   "metadata": {},
   "outputs": [],
   "source": [
    "a.left = b\n",
    "a.right = c\n",
    "c.left = d\n",
    "c.right = e"
   ]
  },
  {
   "cell_type": "code",
   "execution_count": 25,
   "metadata": {},
   "outputs": [
    {
     "name": "stdout",
     "output_type": "stream",
     "text": [
      "Eachlevel {} [3]\n",
      "Eachlevel {} [9, 20]\n",
      "Eachlevel {} [15, 7]\n"
     ]
    },
    {
     "data": {
      "text/plain": [
       "[[3], [9, 20], [15, 7]]"
      ]
     },
     "execution_count": 25,
     "metadata": {},
     "output_type": "execute_result"
    }
   ],
   "source": [
    "test = Solution()\n",
    "test.levelOrder(a)"
   ]
  },
  {
   "cell_type": "code",
   "execution_count": null,
   "metadata": {},
   "outputs": [],
   "source": []
  },
  {
   "cell_type": "code",
   "execution_count": null,
   "metadata": {},
   "outputs": [],
   "source": []
  }
 ],
 "metadata": {
  "kernelspec": {
   "display_name": "Python 3",
   "language": "python",
   "name": "python3"
  },
  "language_info": {
   "codemirror_mode": {
    "name": "ipython",
    "version": 3
   },
   "file_extension": ".py",
   "mimetype": "text/x-python",
   "name": "python",
   "nbconvert_exporter": "python",
   "pygments_lexer": "ipython3",
   "version": "3.7.1"
  }
 },
 "nbformat": 4,
 "nbformat_minor": 2
}
