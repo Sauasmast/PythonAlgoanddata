{
 "cells": [
  {
   "cell_type": "code",
   "execution_count": 9,
   "metadata": {},
   "outputs": [],
   "source": [
    "class Solution(object):\n",
    "    def sortedSquares(self, A):\n",
    "        \"\"\"\n",
    "        :type A: List[int]\n",
    "        :rtype: List[int]\n",
    "        \"\"\"\n",
    "        i = -1 \n",
    "        for eachelement in A:\n",
    "            if eachelement < 0:\n",
    "                i = i + 1\n",
    "            else:\n",
    "                break\n",
    "        j = i+1\n",
    "        print(i)\n",
    "        print(j)\n",
    "        ans = []\n",
    "        while i >= 0 and j < len(A):\n",
    "            print(\"Running here\")\n",
    "            if (A[i]**2 < A[j]**2):\n",
    "                ans.append(A[i]**2)\n",
    "                i = i-1\n",
    "            else:\n",
    "                ans.append(A[j]**2)\n",
    "                j = j + 1\n",
    "        print(ans)\n",
    "        \n",
    "        while i >= 0: \n",
    "            ans.append(A[i]**2)\n",
    "            i = i-1\n",
    "        \n",
    "        while j < len(A):\n",
    "            ans.append(A[j]**2)\n",
    "            j = j + 1 \n",
    "        return ans"
   ]
  },
  {
   "cell_type": "code",
   "execution_count": 10,
   "metadata": {},
   "outputs": [
    {
     "name": "stdout",
     "output_type": "stream",
     "text": [
      "1\n",
      "2\n",
      "Running here\n",
      "Running here\n",
      "Running here\n",
      "Running here\n",
      "[0, 1, 9, 16]\n"
     ]
    },
    {
     "data": {
      "text/plain": [
       "[0, 1, 9, 16, 100]"
      ]
     },
     "execution_count": 10,
     "metadata": {},
     "output_type": "execute_result"
    }
   ],
   "source": [
    "b = Solution()\n",
    "b.sortedSquares([-4,-1,0,3,10])"
   ]
  },
  {
   "cell_type": "code",
   "execution_count": null,
   "metadata": {},
   "outputs": [],
   "source": []
  }
 ],
 "metadata": {
  "kernelspec": {
   "display_name": "Python 3",
   "language": "python",
   "name": "python3"
  },
  "language_info": {
   "codemirror_mode": {
    "name": "ipython",
    "version": 3
   },
   "file_extension": ".py",
   "mimetype": "text/x-python",
   "name": "python",
   "nbconvert_exporter": "python",
   "pygments_lexer": "ipython3",
   "version": "3.7.1"
  }
 },
 "nbformat": 4,
 "nbformat_minor": 2
}
