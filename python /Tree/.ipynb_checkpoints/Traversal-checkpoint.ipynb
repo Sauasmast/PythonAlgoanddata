{
 "cells": [
  {
   "cell_type": "code",
   "execution_count": 1,
   "metadata": {},
   "outputs": [],
   "source": [
    "def preorder(root):\n",
    "    while root != null:\n",
    "        print(root)\n",
    "        preorder(root.left)\n",
    "        preorder(root.right)\n",
    "        "
   ]
  },
  {
   "cell_type": "code",
   "execution_count": 2,
   "metadata": {},
   "outputs": [],
   "source": [
    "def postorder(root):\n",
    "    while root != null:\n",
    "        preorder(root.left)\n",
    "        preorder(root.right)\n",
    "        print(root)"
   ]
  },
  {
   "cell_type": "code",
   "execution_count": null,
   "metadata": {},
   "outputs": [],
   "source": [
    "def inorder(root):\n",
    "    while root != null:\n",
    "        preorder(root.left)\n",
    "        print(root)\n",
    "        preorder(root.right)\n",
    "        "
   ]
  }
 ],
 "metadata": {
  "kernelspec": {
   "display_name": "Python 3",
   "language": "python",
   "name": "python3"
  },
  "language_info": {
   "codemirror_mode": {
    "name": "ipython",
    "version": 3
   },
   "file_extension": ".py",
   "mimetype": "text/x-python",
   "name": "python",
   "nbconvert_exporter": "python",
   "pygments_lexer": "ipython3",
   "version": "3.6.5"
  }
 },
 "nbformat": 4,
 "nbformat_minor": 2
}
