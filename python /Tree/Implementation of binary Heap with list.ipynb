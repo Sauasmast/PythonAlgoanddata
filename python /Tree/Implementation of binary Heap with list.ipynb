{
 "cells": [
  {
   "cell_type": "code",
   "execution_count": 21,
   "metadata": {},
   "outputs": [],
   "source": [
    "def BinHeap(object):\n",
    "    def __init__():\n",
    "        self.heap = [0]\n",
    "        self.heapsize = 0\n",
    "    \n",
    "    def addele(self, value):\n",
    "        self.heapsize =+ 1\n",
    "        self.heap.append(value)\n",
    "        self.percup(self.heapsize)\n",
    "    \n",
    "    def percup(self, i):\n",
    "        while i//2 > 0:\n",
    "            if self.heap[i//2] > self.heap[i]:\n",
    "                temp = self.heap[i//2]\n",
    "                self.heap[i//2] = self.heap[i]\n",
    "                self.heap[i] = temp\n",
    "                i = i //2\n",
    "            else:\n",
    "                break\n",
    "            \n",
    "    def delMin(self):\n",
    "        self.heap[1] = self.heap[self.heapsize]\n",
    "        self.heap.pop()\n",
    "        self.heapsize = self.heapsize - 1\n",
    "        self.percupDown(1)\n",
    "    \n",
    "    def percupDown(self,i):\n",
    "        while i * 2 <= self.heapsize:\n",
    "            min_child = self.findmin(i)\n",
    "            if self.heap[i] > self.heap[min_child]:\n",
    "                temp = self.heap[min_child] \n",
    "                self.heap[min_child] = self.heap[i]\n",
    "                self.heap[i] = temp\n",
    "            i = min_child\n",
    "            \n",
    "    def findmin(self,i):\n",
    "        if i*2 + 1 > self.heapsize:\n",
    "            return i * 2\n",
    "        else:\n",
    "            if self.heap[i*2] > self.heap[i*2 +1]:\n",
    "                return i*2\n",
    "            else:\n",
    "                return i*2+1\n",
    "            \n",
    "    def buildHeap(self,alist):\n",
    "        i = len(alist) // 2\n",
    "        self.currentSize = len(alist)\n",
    "        self.heapList = [0] + alist[:]\n",
    "        while (i > 0):\n",
    "            self.percDown(i)\n",
    "            i = i - 1\n",
    "            "
   ]
  },
  {
   "cell_type": "code",
   "execution_count": null,
   "metadata": {},
   "outputs": [],
   "source": []
  }
 ],
 "metadata": {
  "kernelspec": {
   "display_name": "Python 3",
   "language": "python",
   "name": "python3"
  },
  "language_info": {
   "codemirror_mode": {
    "name": "ipython",
    "version": 3
   },
   "file_extension": ".py",
   "mimetype": "text/x-python",
   "name": "python",
   "nbconvert_exporter": "python",
   "pygments_lexer": "ipython3",
   "version": "3.6.5"
  }
 },
 "nbformat": 4,
 "nbformat_minor": 2
}
