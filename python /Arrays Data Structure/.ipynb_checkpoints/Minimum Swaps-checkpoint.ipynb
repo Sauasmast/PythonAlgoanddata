{
 "cells": [
  {
   "cell_type": "markdown",
   "metadata": {},
   "source": [
    "Hackerrank Minimum number of swaps"
   ]
  },
  {
   "cell_type": "code",
   "execution_count": 29,
   "metadata": {},
   "outputs": [],
   "source": [
    "def minimumSwaps(arr):\n",
    "    swap = 0\n",
    "    for i in range(1,len(arr)-1):\n",
    "        position = i \n",
    "        print(\"Comparision of {arr[i]} with \")\n",
    "        for j in range(i-1, -1):\n",
    "            if (arr[i]< arr[j]):\n",
    "                print(\"Reached here\")\n",
    "                global position = j \n",
    "            else:\n",
    "                break\n",
    "        if position != i:\n",
    "            temp = arr[i]\n",
    "            arr[i] = arr[position]\n",
    "            arr[position] = temp\n",
    "            swap = swap +1\n",
    "    return swap"
   ]
  },
  {
   "cell_type": "code",
   "execution_count": 30,
   "metadata": {},
   "outputs": [
    {
     "data": {
      "text/plain": [
       "0"
      ]
     },
     "execution_count": 30,
     "metadata": {},
     "output_type": "execute_result"
    }
   ],
   "source": [
    "minimumSwaps([1,3,2,4,5])"
   ]
  },
  {
   "cell_type": "code",
   "execution_count": null,
   "metadata": {},
   "outputs": [],
   "source": []
  },
  {
   "cell_type": "code",
   "execution_count": null,
   "metadata": {},
   "outputs": [],
   "source": []
  }
 ],
 "metadata": {
  "kernelspec": {
   "display_name": "Python 3",
   "language": "python",
   "name": "python3"
  },
  "language_info": {
   "codemirror_mode": {
    "name": "ipython",
    "version": 3
   },
   "file_extension": ".py",
   "mimetype": "text/x-python",
   "name": "python",
   "nbconvert_exporter": "python",
   "pygments_lexer": "ipython3",
   "version": "3.6.5"
  }
 },
 "nbformat": 4,
 "nbformat_minor": 2
}
