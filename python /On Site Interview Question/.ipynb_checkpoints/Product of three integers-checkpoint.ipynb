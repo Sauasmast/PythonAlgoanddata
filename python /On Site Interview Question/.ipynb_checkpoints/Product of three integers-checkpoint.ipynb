{
 "cells": [
  {
   "cell_type": "markdown",
   "metadata": {},
   "source": [
    "This is the simple approach using the sort algorithms"
   ]
  },
  {
   "cell_type": "code",
   "execution_count": 29,
   "metadata": {},
   "outputs": [],
   "source": [
    "def merge_sort(array):\n",
    "\n",
    "    if(len(array)>1):\n",
    "        mid = len(array)//2\n",
    "        left_array = array[:mid]\n",
    "        right_array = array[mid:]\n",
    "\n",
    "        merge_sort(left_array)  \n",
    "        merge_sort(right_array)\n",
    "        \n",
    "        i=0\n",
    "        j=0\n",
    "        k=0\n",
    "        while(i<len(left_array) and j<len(right_array)):\n",
    "            if (left_array[i]>right_array[j]):\n",
    "                array[k] = left_array[i]\n",
    "                i+=1\n",
    "            else:\n",
    "                array[k] = right_array[j]\n",
    "                j+=1\n",
    "            k+=1\n",
    "        \n",
    "        while(i<len(left_array)):\n",
    "            array[k] = left_array[i]\n",
    "            i+=1\n",
    "            k+=1\n",
    "            \n",
    "        while(j<len(left_array)):\n",
    "            array[k] = left_array[j]\n",
    "            j+=1\n",
    "            k+=1\n",
    "    "
   ]
  },
  {
   "cell_type": "code",
   "execution_count": 30,
   "metadata": {},
   "outputs": [
    {
     "data": {
      "text/plain": [
       "[9, 9, 7, 9, 9, 7]"
      ]
     },
     "execution_count": 30,
     "metadata": {},
     "output_type": "execute_result"
    }
   ],
   "source": [
    "arr = [7,9,0,3,2,1]\n",
    "merge_sort(arr)\n",
    "arr"
   ]
  },
  {
   "cell_type": "code",
   "execution_count": null,
   "metadata": {},
   "outputs": [],
   "source": []
  },
  {
   "cell_type": "code",
   "execution_count": null,
   "metadata": {},
   "outputs": [],
   "source": []
  }
 ],
 "metadata": {
  "kernelspec": {
   "display_name": "Python 3",
   "language": "python",
   "name": "python3"
  },
  "language_info": {
   "codemirror_mode": {
    "name": "ipython",
    "version": 3
   },
   "file_extension": ".py",
   "mimetype": "text/x-python",
   "name": "python",
   "nbconvert_exporter": "python",
   "pygments_lexer": "ipython3",
   "version": "3.7.1"
  }
 },
 "nbformat": 4,
 "nbformat_minor": 2
}
