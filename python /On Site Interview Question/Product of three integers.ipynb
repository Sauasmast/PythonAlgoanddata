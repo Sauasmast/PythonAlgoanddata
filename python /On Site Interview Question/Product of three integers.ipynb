{
 "cells": [
  {
   "cell_type": "markdown",
   "metadata": {},
   "source": [
    "This is the simple approach using the sort algorithms"
   ]
  },
  {
   "cell_type": "code",
   "execution_count": 39,
   "metadata": {},
   "outputs": [],
   "source": [
    "def merge_sort2(array):\n",
    "\n",
    "    if(len(array)>1):\n",
    "        mid = len(array)//2\n",
    "        left_array = array[:mid]\n",
    "        right_array = array[mid:]\n",
    "\n",
    "        merge_sort(left_array)  \n",
    "        merge_sort(right_array)\n",
    "        \n",
    "        i=0\n",
    "        j=0\n",
    "        k=0\n",
    "        while i<len(left_array) and j<len(right_array):\n",
    "            if (left_array[i]<right_array[j]):\n",
    "                array[k] = left_array[i]\n",
    "                i+=1\n",
    "            else:\n",
    "                array[k] = right_array[j]\n",
    "                j+=1\n",
    "            k+=1\n",
    "        \n",
    "        while(i<len(left_array)):\n",
    "            array[k] = left_array[i]\n",
    "            i+=1\n",
    "            k+=1\n",
    "            \n",
    "        while(j<len(right_array)):\n",
    "            array[k] = right_array[j]\n",
    "            j+=1\n",
    "            k+=1\n",
    "    "
   ]
  },
  {
   "cell_type": "code",
   "execution_count": 48,
   "metadata": {},
   "outputs": [],
   "source": [
    "def max_product(array):\n",
    "    merge_sort(array)\n",
    "    array.reverse()\n",
    "    max_product = array[0]*array[1]*array[2]\n",
    "    print(max_product)"
   ]
  },
  {
   "cell_type": "code",
   "execution_count": 49,
   "metadata": {},
   "outputs": [
    {
     "name": "stdout",
     "output_type": "stream",
     "text": [
      "0\n"
     ]
    }
   ],
   "source": [
    "max_product([1,2,0,0,0])"
   ]
  },
  {
   "cell_type": "code",
   "execution_count": null,
   "metadata": {},
   "outputs": [],
   "source": []
  }
 ],
 "metadata": {
  "kernelspec": {
   "display_name": "Python 3",
   "language": "python",
   "name": "python3"
  },
  "language_info": {
   "codemirror_mode": {
    "name": "ipython",
    "version": 3
   },
   "file_extension": ".py",
   "mimetype": "text/x-python",
   "name": "python",
   "nbconvert_exporter": "python",
   "pygments_lexer": "ipython3",
   "version": "3.7.1"
  }
 },
 "nbformat": 4,
 "nbformat_minor": 2
}
