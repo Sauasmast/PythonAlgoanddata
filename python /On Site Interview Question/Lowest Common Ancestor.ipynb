{
 "cells": [
  {
   "cell_type": "markdown",
   "metadata": {},
   "source": [
    "Lowest Common Ancestor in binary tree"
   ]
  },
  {
   "cell_type": "code",
   "execution_count": 7,
   "metadata": {},
   "outputs": [],
   "source": [
    "# Where n1, n2 are the nodes to be searched \n",
    "def common_ancestor(root, n1, n2):\n",
    "    if (root == None):\n",
    "        return None\n",
    "    if (root == n1 or root == n2):\n",
    "        return root\n",
    "    left = common_ancestor(root.left, n1, n2)\n",
    "    right = common_ancestor(root.right, n1, n2)\n",
    "    if(left != None and right !=None): \n",
    "        return root\n",
    "    if (left == None and right == None):\n",
    "        return null\n",
    "    return (left if left!=None else right)"
   ]
  },
  {
   "cell_type": "code",
   "execution_count": null,
   "metadata": {},
   "outputs": [],
   "source": []
  },
  {
   "cell_type": "code",
   "execution_count": null,
   "metadata": {},
   "outputs": [],
   "source": []
  }
 ],
 "metadata": {
  "kernelspec": {
   "display_name": "Python 3",
   "language": "python",
   "name": "python3"
  },
  "language_info": {
   "codemirror_mode": {
    "name": "ipython",
    "version": 3
   },
   "file_extension": ".py",
   "mimetype": "text/x-python",
   "name": "python",
   "nbconvert_exporter": "python",
   "pygments_lexer": "ipython3",
   "version": "3.7.1"
  }
 },
 "nbformat": 4,
 "nbformat_minor": 2
}
