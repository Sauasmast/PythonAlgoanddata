{
 "cells": [
  {
   "cell_type": "code",
   "execution_count": null,
   "metadata": {},
   "outputs": [],
   "source": [
    "def merge(nums1, nums2):   \n",
    "    i=0\n",
    "    while (i < len(nums2)):\n",
    "        position = len(nums1) - 1\n",
    "        while (nums1[position] < nums2[i]):\n",
    "            position = position -1\n",
    "        nums2.insert(nums2[i], position)\n",
    "        i= i +1;\n",
    "    return nums1"
   ]
  },
  {
   "cell_type": "code",
   "execution_count": null,
   "metadata": {},
   "outputs": [],
   "source": [
    "value = merge([1,2,3], [2,3,5])"
   ]
  },
  {
   "cell_type": "code",
   "execution_count": null,
   "metadata": {},
   "outputs": [],
   "source": []
  },
  {
   "cell_type": "code",
   "execution_count": null,
   "metadata": {},
   "outputs": [],
   "source": []
  },
  {
   "cell_type": "code",
   "execution_count": null,
   "metadata": {},
   "outputs": [],
   "source": [
    "print(list(range(10)))"
   ]
  },
  {
   "cell_type": "markdown",
   "metadata": {},
   "source": [
    "Check the false and true version"
   ]
  },
  {
   "cell_type": "code",
   "execution_count": null,
   "metadata": {},
   "outputs": [],
   "source": [
    "class Solution:\n",
    "    def isBadVersion(n):\n",
    "        switch n:\n",
    "            \n",
    "        \n",
    "    def firstBadVersion(self, n):\n",
    "        first = 1\n",
    "        last = n\n",
    "        while first<last:\n",
    "            mid = (last + first) // 2\n",
    "            if (isBadVersion(mid)):\n",
    "                last = mid\n",
    "            else:\n",
    "                first = mid    \n",
    "        if (isBadVersion(first)):\n",
    "            return first\n",
    "        return last"
   ]
  }
 ],
 "metadata": {
  "kernelspec": {
   "display_name": "Python 3",
   "language": "python",
   "name": "python3"
  },
  "language_info": {
   "codemirror_mode": {
    "name": "ipython",
    "version": 3
   },
   "file_extension": ".py",
   "mimetype": "text/x-python",
   "name": "python",
   "nbconvert_exporter": "python",
   "pygments_lexer": "ipython3",
   "version": "3.7.1"
  }
 },
 "nbformat": 4,
 "nbformat_minor": 2
}
