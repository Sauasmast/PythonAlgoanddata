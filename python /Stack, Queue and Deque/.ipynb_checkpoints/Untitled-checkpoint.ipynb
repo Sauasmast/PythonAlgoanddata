{
 "cells": [
  {
   "cell_type": "markdown",
   "metadata": {},
   "source": [
    "Implementing Queue with Two Stack"
   ]
  },
  {
   "cell_type": "code",
   "execution_count": null,
   "metadata": {},
   "outputs": [],
   "source": [
    "class Queue2Stacks(object):\n",
    "    \n",
    "    def __init__(self):\n",
    "        instack = []\n",
    "        outstack = []\n",
    "    \n",
    "    def enqueue(self, items):\n",
    "        instack.append(items)\n",
    "\n",
    "    def dequeue(self):\n",
    "        if not outstack:\n",
    "            while instack:\n",
    "                outstack.append(instack.pop())\n",
    "        return outstack.pop()\n",
    "    "
   ]
  }
 ],
 "metadata": {
  "kernelspec": {
   "display_name": "Python 3",
   "language": "python",
   "name": "python3"
  },
  "language_info": {
   "codemirror_mode": {
    "name": "ipython",
    "version": 3
   },
   "file_extension": ".py",
   "mimetype": "text/x-python",
   "name": "python",
   "nbconvert_exporter": "python",
   "pygments_lexer": "ipython3",
   "version": "3.6.5"
  }
 },
 "nbformat": 4,
 "nbformat_minor": 2
}
