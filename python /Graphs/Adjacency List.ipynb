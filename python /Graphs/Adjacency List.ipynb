{
 "cells": [
  {
   "cell_type": "code",
   "execution_count": null,
   "metadata": {},
   "outputs": [],
   "source": [
    "class Vertex(object):\n",
    "    \n",
    "    def __init__(self, key):\n",
    "        self.id = key\n",
    "        self.connectedTo = {}\n",
    "    \n",
    "    def addNeighbor(self, nbr, weight=0):\n",
    "        self.connectedTo[nbr] = weight\n",
    "    \n",
    "    def getConnection(self):\n",
    "        return self.connectedTo.keys()\n",
    "        \n",
    "    def getId(self):\n",
    "        return self.id\n",
    "    \n",
    "    def getWeight(self, nbr):\n",
    "        return connectedTo[nbr]\n",
    "    \n",
    "    def __str__(self):\n",
    "    return str(self.id) + 'connected to: ' + str([x.id for x in self.connectedTo])"
   ]
  },
  {
   "cell_type": "code",
   "execution_count": null,
   "metadata": {},
   "outputs": [],
   "source": [
    "class Graph:\n",
    "    def  __init__(self):\n",
    "        self.vertList = {}\n",
    "        self.numVertices = 0\n",
    "    \n",
    "    def addVertex(self,key):\n",
    "        self.numVertices = self.numVertices + 1 \n",
    "        newVertex = Vertex(key)\n",
    "        self.vertList[key] = newVertex\n",
    "        return newVertex\n",
    "        \n",
    "    def getVertex(self,n):\n",
    "        if n in self.vertList\n",
    "            return self.vertList[n]\n",
    "        else:\n",
    "            return None\n",
    "            \n",
    "    def addEdge(self, f, t, cost=0):\n",
    "        if f not in self.vertList:\n",
    "            nv = self.addVertex(f)\n",
    "        if t not in self.vertList:\n",
    "            nv = self.addVertex(t)\n",
    "            \n",
    "        self.vertList[f].addNeighbor(self.verList[t],cost)\n",
    "        \n",
    "    def getVertices(self):\n",
    "        return self.verList.keys()\n",
    "    \n",
    "    def __iter__(self):\n",
    "        return iter(self.vertList.values())\n",
    "    \n",
    "    def __contains__(self, n):\n",
    "        return n in self.vertList"
   ]
  },
  {
   "cell_type": "code",
   "execution_count": null,
   "metadata": {},
   "outputs": [],
   "source": [
    "g = Graph()"
   ]
  },
  {
   "cell_type": "code",
   "execution_count": 1,
   "metadata": {},
   "outputs": [
    {
     "data": {
      "text/plain": [
       "<list_iterator at 0x10c7d9d68>"
      ]
     },
     "execution_count": 1,
     "metadata": {},
     "output_type": "execute_result"
    }
   ],
   "source": [
    "saugat = [1,2,3,4]\n",
    "saugat.__iter__()"
   ]
  },
  {
   "cell_type": "code",
   "execution_count": 2,
   "metadata": {},
   "outputs": [],
   "source": [
    "value = saugat.__iter__()"
   ]
  },
  {
   "cell_type": "code",
   "execution_count": 3,
   "metadata": {},
   "outputs": [
    {
     "data": {
      "text/plain": [
       "1"
      ]
     },
     "execution_count": 3,
     "metadata": {},
     "output_type": "execute_result"
    }
   ],
   "source": [
    "next(value)"
   ]
  },
  {
   "cell_type": "code",
   "execution_count": 4,
   "metadata": {},
   "outputs": [
    {
     "data": {
      "text/plain": [
       "2"
      ]
     },
     "execution_count": 4,
     "metadata": {},
     "output_type": "execute_result"
    }
   ],
   "source": [
    "next(value)"
   ]
  },
  {
   "cell_type": "code",
   "execution_count": 5,
   "metadata": {},
   "outputs": [
    {
     "data": {
      "text/plain": [
       "True"
      ]
     },
     "execution_count": 5,
     "metadata": {},
     "output_type": "execute_result"
    }
   ],
   "source": [
    "saugat.__contains__(1)"
   ]
  },
  {
   "cell_type": "code",
   "execution_count": null,
   "metadata": {},
   "outputs": [],
   "source": []
  }
 ],
 "metadata": {
  "kernelspec": {
   "display_name": "Python 3",
   "language": "python",
   "name": "python3"
  },
  "language_info": {
   "codemirror_mode": {
    "name": "ipython",
    "version": 3
   },
   "file_extension": ".py",
   "mimetype": "text/x-python",
   "name": "python",
   "nbconvert_exporter": "python",
   "pygments_lexer": "ipython3",
   "version": "3.6.5"
  }
 },
 "nbformat": 4,
 "nbformat_minor": 2
}
