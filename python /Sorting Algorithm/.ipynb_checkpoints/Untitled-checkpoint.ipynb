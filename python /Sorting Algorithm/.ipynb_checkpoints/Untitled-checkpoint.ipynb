{
 "cells": [
  {
   "cell_type": "markdown",
   "metadata": {},
   "source": [
    "Sorting Algorithms"
   ]
  },
  {
   "cell_type": "code",
   "execution_count": 6,
   "metadata": {},
   "outputs": [
    {
     "ename": "SyntaxError",
     "evalue": "unexpected EOF while parsing (<ipython-input-6-64166530329e>, line 18)",
     "output_type": "error",
     "traceback": [
      "\u001b[0;36m  File \u001b[0;32m\"<ipython-input-6-64166530329e>\"\u001b[0;36m, line \u001b[0;32m18\u001b[0m\n\u001b[0;31m    \u001b[0m\n\u001b[0m    ^\u001b[0m\n\u001b[0;31mSyntaxError\u001b[0m\u001b[0;31m:\u001b[0m unexpected EOF while parsing\n"
     ]
    }
   ],
   "source": [
    "def activityNotifications(expenditure, d):\n",
    "    notification = 0\n",
    "    if d > len(expenditure):\n",
    "        subarray = expenditure[:d].sort()\n",
    "        for i in range(d, len(expenditure)):\n",
    "            position = i\n",
    "            if (d%2 == 1):\n",
    "                if (2*expenditure[d//2] > expenditure[i]):\n",
    "                    notificaiton +=1\n",
    "            else:\n",
    "                if ((expenditure[d] + expenditure[d+1]) > expenditure[i]):\n",
    "                    notification +=1\n",
    "            subarray.pop(0)\n",
    "            for i in (len(subarray)-1 , -1, -1):\n",
    "                if (expenditure[d] < subarray[i]):\n",
    "                    \n",
    "                    \n",
    "                    \n",
    "    else: \n",
    "        return notification\n",
    "    return notification \n",
    "\n",
    "    def sorted_half(expenditure, d):\n",
    "        \n",
    "        "
   ]
  },
  {
   "cell_type": "code",
   "execution_count": 7,
   "metadata": {},
   "outputs": [
    {
     "name": "stdout",
     "output_type": "stream",
     "text": [
      "[2, 3, 4, 2, 3]\n"
     ]
    }
   ],
   "source": [
    "activityNotifications([2,3,4,2,3,6,8,4,5],5)"
   ]
  },
  {
   "cell_type": "code",
   "execution_count": null,
   "metadata": {},
   "outputs": [],
   "source": []
  }
 ],
 "metadata": {
  "kernelspec": {
   "display_name": "Python 3",
   "language": "python",
   "name": "python3"
  },
  "language_info": {
   "codemirror_mode": {
    "name": "ipython",
    "version": 3
   },
   "file_extension": ".py",
   "mimetype": "text/x-python",
   "name": "python",
   "nbconvert_exporter": "python",
   "pygments_lexer": "ipython3",
   "version": "3.6.5"
  }
 },
 "nbformat": 4,
 "nbformat_minor": 2
}
