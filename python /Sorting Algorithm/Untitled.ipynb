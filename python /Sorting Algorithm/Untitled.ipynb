{
 "cells": [
  {
   "cell_type": "code",
   "execution_count": 24,
   "metadata": {},
   "outputs": [],
   "source": [
    "def mergesort(arr):\n",
    "    \n",
    "    if len(arr) > 1:\n",
    "        mid = len(arr)//2\n",
    "        leftarray = arr[:mid]\n",
    "        rightarray = arr[mid:]\n",
    "        mergesort(leftarray)\n",
    "        mergesort(rightarray)\n",
    "    \n",
    "        i=j=k=0\n",
    "        while i < len(leftarray) and j < len(rightarray):\n",
    "            if leftarray[i] < rightarray[j]:\n",
    "                arr[k] = leftarray[i]\n",
    "                i = i+1\n",
    "            else:\n",
    "                arr[k] = rightarray[j]\n",
    "                j = j+1\n",
    "            k = k+1\n",
    "\n",
    "        while i < len(leftarray):\n",
    "            arr[k] = leftarray[i]\n",
    "            i = i+1\n",
    "            k = k+1\n",
    "\n",
    "        while j < len(rightarray):\n",
    "            arr[k] = rightarray[j]\n",
    "            j = j+1\n",
    "            k = k+1"
   ]
  },
  {
   "cell_type": "code",
   "execution_count": 26,
   "metadata": {},
   "outputs": [
    {
     "data": {
      "text/plain": [
       "[1, 2, 3, 4, 5, 7]"
      ]
     },
     "execution_count": 26,
     "metadata": {},
     "output_type": "execute_result"
    }
   ],
   "source": [
    "arr= [4,5,7,1,2,3]\n",
    "mergesort(arr)\n",
    "arr"
   ]
  },
  {
   "cell_type": "code",
   "execution_count": null,
   "metadata": {},
   "outputs": [],
   "source": []
  }
 ],
 "metadata": {
  "kernelspec": {
   "display_name": "Python 3",
   "language": "python",
   "name": "python3"
  },
  "language_info": {
   "codemirror_mode": {
    "name": "ipython",
    "version": 3
   },
   "file_extension": ".py",
   "mimetype": "text/x-python",
   "name": "python",
   "nbconvert_exporter": "python",
   "pygments_lexer": "ipython3",
   "version": "3.6.5"
  }
 },
 "nbformat": 4,
 "nbformat_minor": 2
}
