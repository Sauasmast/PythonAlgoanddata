{
 "cells": [
  {
   "cell_type": "markdown",
   "metadata": {},
   "source": [
    "Sorting Algorithms"
   ]
  },
  {
   "cell_type": "code",
   "execution_count": 38,
   "metadata": {},
   "outputs": [],
   "source": [
    "def activityNotifications(expenditure, d):\n",
    "    notification = 0\n",
    "    if d < len(expenditure):\n",
    "        subarray = expenditure[:d]\n",
    "        subarray.sort()\n",
    "        count = 0\n",
    "        for i in range(d, len(expenditure)):\n",
    "            print(subarray)\n",
    "            position = i\n",
    "            if (d%2 == 1):\n",
    "                if (2*subarray[d//2] > expenditure[i]):\n",
    "                    notification +=1\n",
    "            else:\n",
    "                if ((subarray[d//2] + subarray[(d//2)+1]) > expenditure[i]):\n",
    "                    notification +=1\n",
    "            subarray.remove(expenditure[count])\n",
    "            count +=1\n",
    "            for j in (len(subarray)-1 , -1, -1):\n",
    "                if (expenditure[i] < subarray[j]):\n",
    "                    position = j\n",
    "                else:\n",
    "                    break\n",
    "            subarray[position:position] = [expenditure[i]]\n",
    "    else: \n",
    "        return notification\n",
    "    return notification "
   ]
  },
  {
   "cell_type": "code",
   "execution_count": 39,
   "metadata": {},
   "outputs": [
    {
     "name": "stdout",
     "output_type": "stream",
     "text": [
      "[1, 2, 3, 4]\n"
     ]
    },
    {
     "data": {
      "text/plain": [
       "1"
      ]
     },
     "execution_count": 39,
     "metadata": {},
     "output_type": "execute_result"
    }
   ],
   "source": [
    "activityNotifications([1,2,3,4,4],4)"
   ]
  },
  {
   "cell_type": "code",
   "execution_count": null,
   "metadata": {},
   "outputs": [],
   "source": []
  },
  {
   "cell_type": "code",
   "execution_count": null,
   "metadata": {},
   "outputs": [],
   "source": []
  }
 ],
 "metadata": {
  "kernelspec": {
   "display_name": "Python 3",
   "language": "python",
   "name": "python3"
  },
  "language_info": {
   "codemirror_mode": {
    "name": "ipython",
    "version": 3
   },
   "file_extension": ".py",
   "mimetype": "text/x-python",
   "name": "python",
   "nbconvert_exporter": "python",
   "pygments_lexer": "ipython3",
   "version": "3.6.5"
  }
 },
 "nbformat": 4,
 "nbformat_minor": 2
}
