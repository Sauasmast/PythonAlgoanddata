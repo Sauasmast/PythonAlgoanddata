{
 "cells": [
  {
   "cell_type": "code",
   "execution_count": 46,
   "metadata": {},
   "outputs": [],
   "source": [
    "def selection_sort(arr):\n",
    "    unsorted_array = []\n",
    "    for i in range(0, len(arr)):\n",
    "        minimum = float('Inf')\n",
    "        for j in range(0, len(arr)):\n",
    "            minimum = min(arr[j], minimum)\n",
    "        unsorted_array.append(minimum)\n",
    "        arr.remove(minimum)\n",
    "    return unsorted_array"
   ]
  },
  {
   "cell_type": "code",
   "execution_count": 49,
   "metadata": {},
   "outputs": [
    {
     "data": {
      "text/plain": [
       "[1, 2, 2, 3, 8, 35, 45, 67]"
      ]
     },
     "execution_count": 49,
     "metadata": {},
     "output_type": "execute_result"
    }
   ],
   "source": [
    "selection_sort([8,3,45,2,1,2,35,67])"
   ]
  },
  {
   "cell_type": "code",
   "execution_count": 50,
   "metadata": {},
   "outputs": [],
   "source": [
    "def selection_sort(arr):\n",
    "    for index in range(0, len(arr)):\n",
    "        minimum = float('inf')\n",
    "        position = 0\n",
    "        for index2 in range(index, len(arr)):\n",
    "            if (arr[index2] < minimum):\n",
    "                minimum = arr[index2]\n",
    "                position = index2\n",
    "        temp = arr[index] \n",
    "        arr[index] = arr[position]\n",
    "        arr[position] = index\n",
    "    return(arr)\n",
    "            "
   ]
  },
  {
   "cell_type": "code",
   "execution_count": null,
   "metadata": {},
   "outputs": [],
   "source": []
  }
 ],
 "metadata": {
  "kernelspec": {
   "display_name": "Python 3",
   "language": "python",
   "name": "python3"
  },
  "language_info": {
   "codemirror_mode": {
    "name": "ipython",
    "version": 3
   },
   "file_extension": ".py",
   "mimetype": "text/x-python",
   "name": "python",
   "nbconvert_exporter": "python",
   "pygments_lexer": "ipython3",
   "version": "3.6.5"
  }
 },
 "nbformat": 4,
 "nbformat_minor": 2
}
