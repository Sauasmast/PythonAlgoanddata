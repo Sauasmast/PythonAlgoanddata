{
 "cells": [
  {
   "cell_type": "markdown",
   "metadata": {},
   "source": [
    "## Knowing the actual size of the array (with extra spaces on python)\n",
    "JUST A SIMPLE CODE (LEARNT FROM UDEMY.COM)"
   ]
  },
  {
   "cell_type": "code",
   "execution_count": 2,
   "metadata": {},
   "outputs": [
    {
     "name": "stdout",
     "output_type": "stream",
     "text": [
      "Length:   0; Sizes in bytes:   64\n",
      "Length:   1; Sizes in bytes:   96\n",
      "Length:   2; Sizes in bytes:   96\n",
      "Length:   3; Sizes in bytes:   96\n",
      "Length:   4; Sizes in bytes:   96\n",
      "Length:   5; Sizes in bytes:  128\n",
      "Length:   6; Sizes in bytes:  128\n",
      "Length:   7; Sizes in bytes:  128\n",
      "Length:   8; Sizes in bytes:  128\n",
      "Length:   9; Sizes in bytes:  192\n"
     ]
    }
   ],
   "source": [
    "import sys\n",
    "\n",
    "n =10 \n",
    "\n",
    "data = []\n",
    "\n",
    "for i in range(n):\n",
    "    \n",
    "    # Number of elements \n",
    "    a = len(data)\n",
    "    \n",
    "    #size of an array\n",
    "    b = sys.getsizeof(data)\n",
    "    \n",
    "    print ('Length: {0:3d}; Sizes in bytes: {1:4d}'.format(a,b))\n",
    "    \n",
    "    data.append(i)"
   ]
  },
  {
   "cell_type": "code",
   "execution_count": null,
   "metadata": {},
   "outputs": [],
   "source": []
  }
 ],
 "metadata": {
  "kernelspec": {
   "display_name": "Python 3",
   "language": "python",
   "name": "python3"
  },
  "language_info": {
   "codemirror_mode": {
    "name": "ipython",
    "version": 3
   },
   "file_extension": ".py",
   "mimetype": "text/x-python",
   "name": "python",
   "nbconvert_exporter": "python",
   "pygments_lexer": "ipython3",
   "version": "3.6.5"
  }
 },
 "nbformat": 4,
 "nbformat_minor": 2
}
