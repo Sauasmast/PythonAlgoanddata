{
 "cells": [
  {
   "cell_type": "code",
   "execution_count": null,
   "metadata": {},
   "outputs": [],
   "source": [
    "def intersection(nums1, nums2):\n",
    "    newdictionary = {}\n",
    "    intersection = []\n",
    "    for i in nums1:\n",
    "        if i in newdictionary:\n",
    "            newdictionary[i] = newdictionary[i] +1\n",
    "        else:\n",
    "            newdictionary[i] = 1\n",
    "    for k in nums2:\n",
    "            if k in newdictionary:\n",
    "                if newdictionary[k] >= 1:\n",
    "                    intersection.append(k)\n",
    "                    newdictionary[k] = newdictionary[k] -1\n",
    "            else:\n",
    "                continue\n"
   ]
  }
 ],
 "metadata": {
  "kernelspec": {
   "display_name": "Python 3",
   "language": "python",
   "name": "python3"
  },
  "language_info": {
   "codemirror_mode": {
    "name": "ipython",
    "version": 3
   },
   "file_extension": ".py",
   "mimetype": "text/x-python",
   "name": "python",
   "nbconvert_exporter": "python",
   "pygments_lexer": "ipython3",
   "version": "3.6.5"
  }
 },
 "nbformat": 4,
 "nbformat_minor": 2
}
