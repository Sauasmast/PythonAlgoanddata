{
 "cells": [
  {
   "cell_type": "code",
   "execution_count": 1,
   "metadata": {},
   "outputs": [],
   "source": [
    "class Node():\n",
    "    def __init__(self, value):\n",
    "        self.value = value\n",
    "        self.next = None"
   ]
  },
  {
   "cell_type": "code",
   "execution_count": 78,
   "metadata": {},
   "outputs": [],
   "source": [
    "class Solution: \n",
    "    \n",
    "    tauko = None\n",
    "    \n",
    "    def addTwoNumbers(self,l1, l2):\n",
    "        carryover = 0\n",
    "        parent = None\n",
    "        while (l1 != None or l2 != None):\n",
    "            if l1 != None and l2 != None:\n",
    "                sum = l1.value + l2.value + carryover\n",
    "                print(sum)\n",
    "                if sum >= 10: \n",
    "                    carryover = 1\n",
    "                    parent = self.createNode(parent, sum%10)\n",
    "                else: \n",
    "                    parent = self.createNode(parent, sum)  \n",
    "                    carryover =0\n",
    "                l1 = l1.next\n",
    "                l2 = l2.next\n",
    "            elif l1 != None and l2 == None:\n",
    "                sum = l1.value + carryover\n",
    "                print(sum)\n",
    "                if sum >= 10:\n",
    "                    parent = self.createNode(parent, sum%10)\n",
    "                    carryover = 1\n",
    "                else:\n",
    "                    parent = self.createNode(parent, sum)\n",
    "                l1 = l1.next\n",
    "            else:\n",
    "                sum = l2.value + carryover\n",
    "                if sum >= 10:\n",
    "                    parent = self.createNode(parent,sum%10)\n",
    "                    carryover = 1\n",
    "                else:\n",
    "                    parent = self.createNode(parent,sum%10)\n",
    "                l2 = l2.next\n",
    "        \n",
    "        return self.tauko \n",
    "\n",
    "    def createNode(self,parent,value):\n",
    "            if parent == None:\n",
    "                a = Node(value)\n",
    "                self.tauko = a\n",
    "            else:\n",
    "                print(f\"Value {value}\")\n",
    "                a = Node(value)\n",
    "                parent.next = a\n",
    "            return a\n"
   ]
  },
  {
   "cell_type": "code",
   "execution_count": 79,
   "metadata": {},
   "outputs": [],
   "source": [
    "a = Node(2)\n",
    "b = Node(4)\n",
    "c = Node(3)\n",
    "a.next = b\n",
    "b.next = c"
   ]
  },
  {
   "cell_type": "code",
   "execution_count": 80,
   "metadata": {},
   "outputs": [],
   "source": [
    "d = Node()\n"
   ]
  },
  {
   "cell_type": "code",
   "execution_count": 81,
   "metadata": {},
   "outputs": [],
   "source": [
    "check = Solution()"
   ]
  },
  {
   "cell_type": "code",
   "execution_count": 82,
   "metadata": {},
   "outputs": [
    {
     "name": "stdout",
     "output_type": "stream",
     "text": [
      "3\n",
      "4\n",
      "Value 4\n",
      "3\n",
      "Value 3\n"
     ]
    }
   ],
   "source": [
    "linkedlist = check.addTwoNumbers(a,d)"
   ]
  },
  {
   "cell_type": "code",
   "execution_count": 83,
   "metadata": {},
   "outputs": [
    {
     "data": {
      "text/plain": [
       "3"
      ]
     },
     "execution_count": 83,
     "metadata": {},
     "output_type": "execute_result"
    }
   ],
   "source": [
    "linkedlist.value"
   ]
  },
  {
   "cell_type": "code",
   "execution_count": 84,
   "metadata": {},
   "outputs": [
    {
     "data": {
      "text/plain": [
       "4"
      ]
     },
     "execution_count": 84,
     "metadata": {},
     "output_type": "execute_result"
    }
   ],
   "source": [
    "linkedlist.next.value"
   ]
  },
  {
   "cell_type": "code",
   "execution_count": 85,
   "metadata": {},
   "outputs": [
    {
     "data": {
      "text/plain": [
       "3"
      ]
     },
     "execution_count": 85,
     "metadata": {},
     "output_type": "execute_result"
    }
   ],
   "source": [
    "linkedlist.next.next.value"
   ]
  },
  {
   "cell_type": "code",
   "execution_count": null,
   "metadata": {},
   "outputs": [],
   "source": []
  },
  {
   "cell_type": "code",
   "execution_count": null,
   "metadata": {},
   "outputs": [],
   "source": []
  },
  {
   "cell_type": "code",
   "execution_count": null,
   "metadata": {},
   "outputs": [],
   "source": []
  }
 ],
 "metadata": {
  "kernelspec": {
   "display_name": "Python 3",
   "language": "python",
   "name": "python3"
  },
  "language_info": {
   "codemirror_mode": {
    "name": "ipython",
    "version": 3
   },
   "file_extension": ".py",
   "mimetype": "text/x-python",
   "name": "python",
   "nbconvert_exporter": "python",
   "pygments_lexer": "ipython3",
   "version": "3.6.5"
  }
 },
 "nbformat": 4,
 "nbformat_minor": 2
}
