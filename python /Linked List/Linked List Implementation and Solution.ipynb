{
 "cells": [
  {
   "cell_type": "code",
   "execution_count": 1,
   "metadata": {},
   "outputs": [],
   "source": [
    "class Node():\n",
    "    def __init__(self, value):\n",
    "        self.value = value\n",
    "        self.next = None"
   ]
  },
  {
   "cell_type": "code",
   "execution_count": 100,
   "metadata": {},
   "outputs": [],
   "source": [
    "class Solution: \n",
    "    \n",
    "    tauko = None\n",
    "    \n",
    "    def addTwoNumbers(self,l1, l2):\n",
    "        carryover = 0\n",
    "        parent = None\n",
    "        while (l1 != None or l2 != None):\n",
    "            if l1 != None and l2 != None:\n",
    "                sum = l1.value + l2.value + carryover\n",
    "                print(sum)\n",
    "                if sum >= 10: \n",
    "                    carryover = 1\n",
    "                    parent = self.createNode(parent, sum%10)\n",
    "                else: \n",
    "                    parent = self.createNode(parent, sum)  \n",
    "                    carryover =0\n",
    "                l1 = l1.next\n",
    "                l2 = l2.next\n",
    "            elif l1 != None and l2 == None:\n",
    "                sum = l1.value + carryover\n",
    "                print(sum)\n",
    "                if sum >= 10:\n",
    "                    parent = self.createNode(parent, sum%10)\n",
    "                    carryover = 1\n",
    "                else:\n",
    "                    parent = self.createNode(parent, sum)\n",
    "                l1 = l1.next\n",
    "            else:\n",
    "                sum = l2.value + carryover\n",
    "                if sum >= 10:\n",
    "                    parent = self.createNode(parent,sum%10)\n",
    "                    carryover = 1\n",
    "                else:\n",
    "                    parent = self.createNode(parent,sum%10)\n",
    "                l2 = l2.next\n",
    "        \n",
    "        if sum >= 10:\n",
    "            self.createNode(parent, 1)\n",
    "            \n",
    "        return self.tauko \n",
    "\n",
    "    def createNode(self,parent,value):\n",
    "            if parent == None:\n",
    "                a = Node(value)\n",
    "                self.tauko = a\n",
    "            else:\n",
    "                print(f\"Value {value}\")\n",
    "                a = Node(value)\n",
    "                parent.next = a\n",
    "            return a\n"
   ]
  },
  {
   "cell_type": "code",
   "execution_count": 101,
   "metadata": {},
   "outputs": [],
   "source": [
    "a = Node(9)"
   ]
  },
  {
   "cell_type": "code",
   "execution_count": 102,
   "metadata": {},
   "outputs": [],
   "source": [
    "d = Node(6)\n",
    "e = Node(6)\n",
    "f = Node(6)\n",
    "d.next = e\n",
    "e.next = f"
   ]
  },
  {
   "cell_type": "code",
   "execution_count": 103,
   "metadata": {},
   "outputs": [],
   "source": [
    "check = Solution()"
   ]
  },
  {
   "cell_type": "code",
   "execution_count": 104,
   "metadata": {},
   "outputs": [
    {
     "name": "stdout",
     "output_type": "stream",
     "text": [
      "12\n",
      "13\n",
      "Value 3\n",
      "13\n",
      "Value 3\n",
      "Value 1\n"
     ]
    }
   ],
   "source": [
    "linkedlist = check.addTwoNumbers(a,d)"
   ]
  },
  {
   "cell_type": "code",
   "execution_count": 105,
   "metadata": {},
   "outputs": [
    {
     "data": {
      "text/plain": [
       "2"
      ]
     },
     "execution_count": 105,
     "metadata": {},
     "output_type": "execute_result"
    }
   ],
   "source": [
    "linkedlist.value"
   ]
  },
  {
   "cell_type": "code",
   "execution_count": 106,
   "metadata": {},
   "outputs": [
    {
     "data": {
      "text/plain": [
       "3"
      ]
     },
     "execution_count": 106,
     "metadata": {},
     "output_type": "execute_result"
    }
   ],
   "source": [
    "linkedlist.next.value"
   ]
  },
  {
   "cell_type": "code",
   "execution_count": 107,
   "metadata": {},
   "outputs": [
    {
     "data": {
      "text/plain": [
       "3"
      ]
     },
     "execution_count": 107,
     "metadata": {},
     "output_type": "execute_result"
    }
   ],
   "source": [
    "linkedlist.next.next.value"
   ]
  },
  {
   "cell_type": "code",
   "execution_count": 108,
   "metadata": {},
   "outputs": [
    {
     "data": {
      "text/plain": [
       "1"
      ]
     },
     "execution_count": 108,
     "metadata": {},
     "output_type": "execute_result"
    }
   ],
   "source": [
    "linkedlist.next.next.next.value"
   ]
  },
  {
   "cell_type": "code",
   "execution_count": 109,
   "metadata": {},
   "outputs": [
    {
     "ename": "AttributeError",
     "evalue": "'NoneType' object has no attribute 'value'",
     "output_type": "error",
     "traceback": [
      "\u001b[0;31m---------------------------------------------------------------------------\u001b[0m",
      "\u001b[0;31mAttributeError\u001b[0m                            Traceback (most recent call last)",
      "\u001b[0;32m<ipython-input-109-9302ebac1cae>\u001b[0m in \u001b[0;36m<module>\u001b[0;34m()\u001b[0m\n\u001b[0;32m----> 1\u001b[0;31m \u001b[0mlinkedlist\u001b[0m\u001b[0;34m.\u001b[0m\u001b[0mnext\u001b[0m\u001b[0;34m.\u001b[0m\u001b[0mnext\u001b[0m\u001b[0;34m.\u001b[0m\u001b[0mnext\u001b[0m\u001b[0;34m.\u001b[0m\u001b[0mnext\u001b[0m\u001b[0;34m.\u001b[0m\u001b[0mvalue\u001b[0m\u001b[0;34m\u001b[0m\u001b[0m\n\u001b[0m",
      "\u001b[0;31mAttributeError\u001b[0m: 'NoneType' object has no attribute 'value'"
     ]
    }
   ],
   "source": [
    "linkedlist.next.next.next.next.value"
   ]
  },
  {
   "cell_type": "code",
   "execution_count": null,
   "metadata": {},
   "outputs": [],
   "source": [
    "[9]\n",
    "[1,9,9,9,9,9,8,9,9,9]"
   ]
  }
 ],
 "metadata": {
  "kernelspec": {
   "display_name": "Python 3",
   "language": "python",
   "name": "python3"
  },
  "language_info": {
   "codemirror_mode": {
    "name": "ipython",
    "version": 3
   },
   "file_extension": ".py",
   "mimetype": "text/x-python",
   "name": "python",
   "nbconvert_exporter": "python",
   "pygments_lexer": "ipython3",
   "version": "3.6.5"
  }
 },
 "nbformat": 4,
 "nbformat_minor": 2
}
