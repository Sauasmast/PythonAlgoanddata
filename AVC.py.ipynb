{
 "cells": [
  {
   "cell_type": "code",
   "execution_count": 15,
   "metadata": {},
   "outputs": [],
   "source": [
    "def perfectSubstring(s, k):\n",
    "    dictionary = {}\n",
    "    pointer = 0\n",
    "    count_sub_string = 0\n",
    "    check = False\n",
    "    while (pointer < len(s)):\n",
    "        # Add the element in dictionary for substring. \n",
    "        for each_character in s[pointer:len(s)]:\n",
    "            if each_character in dictionary:\n",
    "                dictionary[each_character] = dictionary[each_character]+1\n",
    "            else:\n",
    "                dictionary[each_character] = 1\n",
    "            # Compare the values in the dictionary with k.\n",
    "            for values_in_dictionary in dictionary.values():\n",
    "                if (values_in_dictionary == k):\n",
    "                    check = True\n",
    "                else:\n",
    "                    check = False\n",
    "                    break\n",
    "            # Check if it contained the right frequencies and clear dictionary         \n",
    "            if check == True:\n",
    "                count_sub_string +=1\n",
    "                check = False\n",
    "        # Clear dictionary and increase the pointer. \n",
    "        dictionary.clear()\n",
    "        pointer+=1\n",
    "    return count_sub_string"
   ]
  },
  {
   "cell_type": "code",
   "execution_count": 16,
   "metadata": {},
   "outputs": [
    {
     "data": {
      "text/plain": [
       "6"
      ]
     },
     "execution_count": 16,
     "metadata": {},
     "output_type": "execute_result"
    }
   ],
   "source": [
    "perfectSubstring(\"1111111\",2)"
   ]
  },
  {
   "cell_type": "code",
   "execution_count": 1,
   "metadata": {},
   "outputs": [
    {
     "data": {
      "text/plain": [
       "'SAUGAT'"
      ]
     },
     "execution_count": 1,
     "metadata": {},
     "output_type": "execute_result"
    }
   ],
   "source": [
    "saguat = \"HAPPY\"\n",
    "\"saugat\".upper()\n"
   ]
  },
  {
   "cell_type": "code",
   "execution_count": null,
   "metadata": {},
   "outputs": [],
   "source": [
    "saugat =  1\n",
    "saugat."
   ]
  },
  {
   "cell_type": "code",
   "execution_count": null,
   "metadata": {},
   "outputs": [],
   "source": []
  },
  {
   "cell_type": "code",
   "execution_count": null,
   "metadata": {},
   "outputs": [],
   "source": []
  }
 ],
 "metadata": {
  "kernelspec": {
   "display_name": "Python 3",
   "language": "python",
   "name": "python3"
  },
  "language_info": {
   "codemirror_mode": {
    "name": "ipython",
    "version": 3
   },
   "file_extension": ".py",
   "mimetype": "text/x-python",
   "name": "python",
   "nbconvert_exporter": "python",
   "pygments_lexer": "ipython3",
   "version": "3.6.5"
  }
 },
 "nbformat": 4,
 "nbformat_minor": 2
}
